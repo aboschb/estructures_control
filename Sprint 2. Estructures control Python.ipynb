{
 "cells": [
  {
   "cell_type": "markdown",
   "id": "c9196688",
   "metadata": {},
   "source": [
    "# Exercici 1"
   ]
  },
  {
   "cell_type": "markdown",
   "id": "311a46e3",
   "metadata": {},
   "source": [
    "L'exercici consisteix a crear una funció que et classifiqui una variable numèrica en funció de l’escala Suspès/Aprovat/Notable/Excel·lent.\n",
    "\n",
    "Recorda que Suspès < 5, Aprovat > 5 i < 7, Notable > 7 i < 9 i Excel·lent > 9.\n"
   ]
  },
  {
   "cell_type": "code",
   "execution_count": 16,
   "id": "5481fa64",
   "metadata": {},
   "outputs": [
    {
     "name": "stdout",
     "output_type": "stream",
     "text": [
      "Has obtingut un Aprovat\n"
     ]
    }
   ],
   "source": [
    "def nota_curs(): # Definim el nom de la funció\n",
    "    \n",
    " if nota < 5: # Creem el condicional en el cas que la nota sigui inferior a 5\n",
    "    print(\"Has suspès\") # Es mostrarà aquest missatge\n",
    "    \n",
    " elif nota >= 5 and nota < 7: # Si la nota obtinguda és major o igual a 5 però menor a 7\n",
    "    print(\"Has obtingut un Aprovat\") # Es mostrarà aquest missatge\n",
    " \n",
    " elif nota >= 7 and nota < 9: # Si la nota obtinguda és major o igual a 7 però menor a 9\n",
    "    print(\"Has obtingut un Notable\")\n",
    "\n",
    " else:   # En la resta de casos \n",
    "    print(\"Has obtingut un Excel.lent\") # Es mostrarà aquest missatge\n",
    "    \n",
    "nota = 6.7 # Indiquem la nota obtinguda\n",
    "\n",
    "nota_curs() # Cridem a la funció per obtenir el resultat"
   ]
  },
  {
   "cell_type": "markdown",
   "id": "b89db673",
   "metadata": {},
   "source": [
    "# Exercici 2"
   ]
  },
  {
   "cell_type": "markdown",
   "id": "54bc1aa0",
   "metadata": {},
   "source": [
    "Utilitzant el següent tutorial crea una funció que et pregunti dos números. T’ha de mostrar un missatge dient si el primer és més gran, el segon és més gran o són iguals.\n",
    "\n",
    "->Programiz: Python Input, Output and Import"
   ]
  },
  {
   "cell_type": "code",
   "execution_count": 17,
   "id": "156405f1",
   "metadata": {},
   "outputs": [
    {
     "name": "stdout",
     "output_type": "stream",
     "text": [
      "Introdueix el primer nombre: 35\n",
      "Introdueix el segon nombre: 82\n",
      "El segon nombre és més gran\n"
     ]
    }
   ],
   "source": [
    "def comparativa_nombres(): # Definim la funció\n",
    "    \n",
    "    if primer_nombre > segon_nombre: # Creem la condició si el 1r nombre és més gran que el 2n\n",
    "        print(\"El primer nombre és més gran\") # Es mostrarà aquest missatge\n",
    "    \n",
    "    elif primer_nombre < segon_nombre: # Creem la condició si el 2n nombre és més gran que el 1r\n",
    "        print(\"El segon nombre és més gran\") # Es mostrarà aquest missatge\n",
    "    \n",
    "    else: # Per la resta de casos\n",
    "        print(\"Els dos nombres són iguals\") # Es mostrarà aquest missatge\n",
    "        \n",
    "primer_nombre = float(input(\"Introdueix el primer nombre: \"))  # Convertim l'string d'entrada a un float o nombre decimal\n",
    "segon_nombre = float(input(\"Introdueix el segon nombre: \"))  # Convertim l'string d'entrada a un float o nombre decimal\n",
    "\n",
    "\n",
    "# Ara cridem la funció per comparar els nombres\n",
    "comparativa_nombres()\n"
   ]
  },
  {
   "cell_type": "markdown",
   "id": "cedcf6fc",
   "metadata": {},
   "source": [
    "# Exercici 3"
   ]
  },
  {
   "cell_type": "markdown",
   "id": "74fc4163",
   "metadata": {},
   "source": [
    "Crea una funció que et pregunti el teu nom, i et demani un número. Si el número és 0, hauria de mostrar un missatge d’error. En cas contrari, hauria de mostrar el nom repetit tants cops com indiqui el número. Per exemple, “Joan Joan Joan”.\n"
   ]
  },
  {
   "cell_type": "code",
   "execution_count": 18,
   "id": "8ba26053",
   "metadata": {},
   "outputs": [
    {
     "name": "stdout",
     "output_type": "stream",
     "text": [
      "Indica el teu nom: Ariadna\n",
      "Indica un nombre major que 0: 6\n",
      "Ariadna Ariadna Ariadna Ariadna Ariadna Ariadna \n"
     ]
    }
   ],
   "source": [
    "def nom_repetit(): # Definim la funció\n",
    "    \n",
    "    if repeticio <= 0: # Si el nombre indicat per l'usuari és zero o negatiu\n",
    "        print(\"Error: El nombre ha de ser major que 0\") # Es mostrarà aquest missatge\n",
    "    else: # En la resta de casos (el nombre indicat és major que 0)\n",
    "        resultat = nom_usuari + \" \"  # Inicialitza l'string resultat amb el nom de l'usuari\n",
    "        resultat *= repeticio  # Repeteix el nom tantes vegades com indica la variable 'repeticio'\n",
    "        print(resultat) # Es mostra el resultat \n",
    "        \n",
    "nom_usuari = input(\"Indica el teu nom: \")  # Missatge a mostrar que guardarà el nom de l'usuari en la variable nom\n",
    "repeticio = int(input(\"Indica un nombre major que 0: \"))  # Converteix-lo a enter amb 'int'\n",
    "\n",
    "# Cridem a la funció per repetir el nom\n",
    "nom_repetit()\n",
    "\n",
    "    "
   ]
  },
  {
   "cell_type": "markdown",
   "id": "deb85a0b",
   "metadata": {},
   "source": [
    "# Exercici 4"
   ]
  },
  {
   "cell_type": "markdown",
   "id": "b70ce4b0",
   "metadata": {},
   "source": [
    "Crea una funció que donada una llista qualsevol, et digui si és simètrica o no. Si ho és, que et digui quants elements té.\n"
   ]
  },
  {
   "cell_type": "code",
   "execution_count": 12,
   "id": "b20a26bc",
   "metadata": {},
   "outputs": [
    {
     "name": "stdout",
     "output_type": "stream",
     "text": [
      "La llista és simètrica i té 6 elements.\n"
     ]
    }
   ],
   "source": [
    "def llista_simetrica(llista): # Definim la funció\n",
    "    \n",
    "    llista_inversa = list(reversed(llista)) # Creem la llista inversa de la llista inicial\n",
    "    if llista == llista_inversa: # Creem la condició si la llistra inicial és igual a la llista inversa (és a dir, simètrica)\n",
    "        return len(llista)  # Indica el nombre d'elements de la llista\n",
    "    else: # En cas contrari (que no sigui simètrica)\n",
    "        return False \n",
    "\n",
    "llista = [5, 4, 3, 3, 4, 5] # Indiquem quina és la nostra llista\n",
    "resultat = llista_simetrica(llista) # Cridem la funció \"llista_simetrica\" amb la llista com a argument \n",
    "                                    # i guardem el resultat en una variable anomenada \"resultat\"\n",
    "\n",
    "if resultat: # Comprovem el resultat de la funció (si no és False)\n",
    "    print(f\"La llista és simètrica i té {resultat} elements.\") # Mostrem aquest missatge, indicant el nombre d'elements\n",
    "else: # En cas que sigui False (que no sigui simètrica)\n",
    "    print(\"La llista no és simètrica\") # Mostrem aquest missatge\n"
   ]
  },
  {
   "cell_type": "markdown",
   "id": "14be3367",
   "metadata": {},
   "source": [
    "# Exercici 5"
   ]
  },
  {
   "cell_type": "markdown",
   "id": "7d0a6933",
   "metadata": {},
   "source": [
    "Crea una funció que donada una llista, et digui quants números coincideixen amb la seva posició. Per exemple [3,4,2,0,2,3,6] el 2 i el 6 coincideixen.\n"
   ]
  },
  {
   "cell_type": "code",
   "execution_count": 15,
   "id": "6f895207",
   "metadata": {},
   "outputs": [
    {
     "name": "stdout",
     "output_type": "stream",
     "text": [
      "Els nombres de la llista que coincideixen amb la seva posició són: [0, 2, 4]\n"
     ]
    }
   ],
   "source": [
    "def nombres_coincidents(llista): # Definim la funció\n",
    "    \n",
    "    coincidents = []  # Creem una llista buida per emmagatzemar els nombres que coincideixen amb la seva posició (índex).\n",
    "    \n",
    "    for p, num in enumerate(llista): # Utilitzem un bucle for que utilitza la funció enumerate() per iterar \n",
    "                                     # a través de la nostra llista.\n",
    "        if p == num:  # Comprovem si la posició (p) coincideix amb el nombre (num).\n",
    "            coincidents.append(num)  # Si coincideix, afegim el nombre a la llista \"coincidents\".\n",
    "    \n",
    "    return coincidents  # Retornem la llista amb els números coincidents.\n",
    "\n",
    "llista = [0, 3, 2, 7, 4, 1] # Indiquem la nostra llista a comprovar.\n",
    "resultat = nombres_coincidents(llista) # Cridem la funció \"nombres_coincidents\" amb la llista com a argument.\n",
    "print(f\"Els nombres de la llista que coincideixen amb la seva posició són: {resultat}\") # Missatge a mostrar.\n"
   ]
  }
 ],
 "metadata": {
  "kernelspec": {
   "display_name": "Python 3 (ipykernel)",
   "language": "python",
   "name": "python3"
  },
  "language_info": {
   "codemirror_mode": {
    "name": "ipython",
    "version": 3
   },
   "file_extension": ".py",
   "mimetype": "text/x-python",
   "name": "python",
   "nbconvert_exporter": "python",
   "pygments_lexer": "ipython3",
   "version": "3.11.1"
  }
 },
 "nbformat": 4,
 "nbformat_minor": 5
}
